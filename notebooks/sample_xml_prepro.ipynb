{
 "cells": [
  {
   "cell_type": "code",
   "execution_count": 2,
   "metadata": {
    "collapsed": false
   },
   "outputs": [
    {
     "name": "stdout",
     "output_type": "stream",
     "text": [
      "\u001b[33mYou are using pip version 7.1.0, however version 8.0.2 is available.\n",
      "You should consider upgrading via the 'pip install --upgrade pip' command.\u001b[0m\n",
      "Collecting xmltodict\n",
      "  Downloading xmltodict-0.9.2.tar.gz\n",
      "Installing collected packages: xmltodict\n",
      "  Running setup.py install for xmltodict\n",
      "Successfully installed xmltodict-0.9.2\n"
     ]
    }
   ],
   "source": [
    "#!pip install xmltodict"
   ]
  },
  {
   "cell_type": "code",
   "execution_count": 3,
   "metadata": {
    "collapsed": true
   },
   "outputs": [],
   "source": [
    "import xmltodict"
   ]
  },
  {
   "cell_type": "code",
   "execution_count": 4,
   "metadata": {
    "collapsed": true
   },
   "outputs": [],
   "source": [
    "with open('../data/0100448_RP-P-OB-80.995B.xml') as fd:\n",
    "    doc = xmltodict.parse(fd.read())"
   ]
  },
  {
   "cell_type": "code",
   "execution_count": 22,
   "metadata": {
    "collapsed": false
   },
   "outputs": [
    {
     "name": "stdout",
     "output_type": "stream",
     "text": [
      "RP-P-OB-80.995B\n",
      "papier\n",
      "boekdruk\n",
      "1622 \n",
      "vermeld op object uitgever: Geilkercken, Nicolaes van\n"
     ]
    }
   ],
   "source": [
    "print doc['record']['metadata']['oai_dc:dc']['dc:identifier'][0]\n",
    "print doc['record']['metadata']['oai_dc:dc']['dc:format'][4][11:]\n",
    "print doc['record']['metadata']['oai_dc:dc']['dc:format'][5][10:]\n",
    "print doc['record']['metadata']['oai_dc:dc']['dc:date'].split('-')[0]\n",
    "print doc['record']['metadata']['oai_dc:dc']['dc:creator']"
   ]
  },
  {
   "cell_type": "code",
   "execution_count": 33,
   "metadata": {
    "collapsed": true
   },
   "outputs": [],
   "source": [
    "import pandas as pd\n",
    "import numpy as np"
   ]
  },
  {
   "cell_type": "code",
   "execution_count": 35,
   "metadata": {
    "collapsed": false
   },
   "outputs": [
    {
     "data": {
      "text/html": [
       "<div>\n",
       "<table border=\"1\" class=\"dataframe\">\n",
       "  <thead>\n",
       "    <tr style=\"text-align: right;\">\n",
       "      <th></th>\n",
       "      <th>artist</th>\n",
       "      <th>date</th>\n",
       "      <th>identifier</th>\n",
       "      <th>medium</th>\n",
       "      <th>method</th>\n",
       "    </tr>\n",
       "  </thead>\n",
       "  <tbody>\n",
       "    <tr>\n",
       "      <th>0</th>\n",
       "      <td>vermeld op object uitgever: Geilkercken, Nicol...</td>\n",
       "      <td>1622</td>\n",
       "      <td>RP-P-OB-80.995B</td>\n",
       "      <td>papier</td>\n",
       "      <td>boekdruk</td>\n",
       "    </tr>\n",
       "  </tbody>\n",
       "</table>\n",
       "</div>"
      ],
      "text/plain": [
       "                                              artist   date       identifier  \\\n",
       "0  vermeld op object uitgever: Geilkercken, Nicol...  1622   RP-P-OB-80.995B   \n",
       "\n",
       "   medium    method  \n",
       "0  papier  boekdruk  "
      ]
     },
     "execution_count": 35,
     "metadata": {},
     "output_type": "execute_result"
    }
   ],
   "source": [
    "df = {}\n",
    "df['identifier'] = doc['record']['metadata']['oai_dc:dc']['dc:identifier'][0]\n",
    "df['medium'] = doc['record']['metadata']['oai_dc:dc']['dc:format'][4][11:]\n",
    "df['method'] = doc['record']['metadata']['oai_dc:dc']['dc:format'][5][10:]\n",
    "df['date'] = doc['record']['metadata']['oai_dc:dc']['dc:date'].split('-')[0]\n",
    "df['artist'] = doc['record']['metadata']['oai_dc:dc']['dc:creator']\n",
    "df = pd.DataFrame(data=df,index=[0])\n",
    "df"
   ]
  },
  {
   "cell_type": "code",
   "execution_count": 48,
   "metadata": {
    "collapsed": false
   },
   "outputs": [],
   "source": [
    "import xmltodict\n",
    "import pandas as pd\n",
    "\n",
    "def extract_metadata(xml_file_name):\n",
    "    with open(xml_file_name) as fd:\n",
    "        doc = xmltodict.parse(fd.read())\n",
    "    df = {}\n",
    "    df['identifier'] = doc['record']['metadata']['oai_dc:dc']['dc:identifier'][0]\n",
    "    df['medium'] = doc['record']['metadata']['oai_dc:dc']['dc:format'][4][11:]\n",
    "    df['method'] = doc['record']['metadata']['oai_dc:dc']['dc:format'][5][10:]\n",
    "    df['date'] = int(doc['record']['metadata']['oai_dc:dc']['dc:date'].split('-')[0]) #in case there's a range, take the first year\n",
    "    df['artist'] = doc['record']['metadata']['oai_dc:dc']['dc:creator']\n",
    "    df = pd.DataFrame(data=df,index=[0])\n",
    "    return df"
   ]
  },
  {
   "cell_type": "code",
   "execution_count": 49,
   "metadata": {
    "collapsed": false
   },
   "outputs": [],
   "source": [
    "df1 = extract_metadata('../data/0100448_RP-P-OB-80.995B.xml')\n",
    "df2 = extract_metadata('../data/0100448_RP-P-OB-80.995B.xml')"
   ]
  },
  {
   "cell_type": "code",
   "execution_count": 52,
   "metadata": {
    "collapsed": false
   },
   "outputs": [
    {
     "data": {
      "text/html": [
       "<div>\n",
       "<table border=\"1\" class=\"dataframe\">\n",
       "  <thead>\n",
       "    <tr style=\"text-align: right;\">\n",
       "      <th></th>\n",
       "      <th>artist</th>\n",
       "      <th>date</th>\n",
       "      <th>identifier</th>\n",
       "      <th>medium</th>\n",
       "      <th>method</th>\n",
       "    </tr>\n",
       "  </thead>\n",
       "  <tbody>\n",
       "    <tr>\n",
       "      <th>0</th>\n",
       "      <td>vermeld op object uitgever: Geilkercken, Nicol...</td>\n",
       "      <td>1622</td>\n",
       "      <td>RP-P-OB-80.995B</td>\n",
       "      <td>papier</td>\n",
       "      <td>boekdruk</td>\n",
       "    </tr>\n",
       "    <tr>\n",
       "      <th>1</th>\n",
       "      <td>vermeld op object uitgever: Geilkercken, Nicol...</td>\n",
       "      <td>1622</td>\n",
       "      <td>RP-P-OB-80.995B</td>\n",
       "      <td>papier</td>\n",
       "      <td>boekdruk</td>\n",
       "    </tr>\n",
       "  </tbody>\n",
       "</table>\n",
       "</div>"
      ],
      "text/plain": [
       "                                              artist  date       identifier  \\\n",
       "0  vermeld op object uitgever: Geilkercken, Nicol...  1622  RP-P-OB-80.995B   \n",
       "1  vermeld op object uitgever: Geilkercken, Nicol...  1622  RP-P-OB-80.995B   \n",
       "\n",
       "   medium    method  \n",
       "0  papier  boekdruk  \n",
       "1  papier  boekdruk  "
      ]
     },
     "execution_count": 52,
     "metadata": {},
     "output_type": "execute_result"
    }
   ],
   "source": [
    "df2.append(df1,ignore_index=True) #test append; remember to ignore index so it relabels"
   ]
  }
 ],
 "metadata": {
  "kernelspec": {
   "display_name": "Python 2",
   "language": "python",
   "name": "python2"
  },
  "language_info": {
   "codemirror_mode": {
    "name": "ipython",
    "version": 2
   },
   "file_extension": ".py",
   "mimetype": "text/x-python",
   "name": "python",
   "nbconvert_exporter": "python",
   "pygments_lexer": "ipython2",
   "version": "2.7.10"
  }
 },
 "nbformat": 4,
 "nbformat_minor": 0
}
